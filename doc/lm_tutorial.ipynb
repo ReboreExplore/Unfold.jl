{
  "cells": [
    {
      "cell_type": "markdown",
      "source": [
        "# Overlap Correction with Linear Models (aka unfold.jl)\n### Benedikt Ehinger, with help Dave Kleinschmidt\n### 2020-02-17"
      ],
      "metadata": {}
    },
    {
      "outputs": [],
      "cell_type": "code",
      "source": [
        "using Revise\nusing CSV\nusing StatsModels\nusing MixedModels\nusing DataFrames\nusing DataFramesMeta\nusing Gadfly\nimport DSP\nimport Plots\nimport unfold\nPlots.gr()"
      ],
      "metadata": {},
      "execution_count": null
    },
    {
      "cell_type": "markdown",
      "source": [
        "In this notebook we will fit regression models to (simulated) EEG data. We will see that we need some type of overlap correction, as external events are so close to each other, that the respective brain responses overlap.\nIf you want more detailed introduction to this topic check out my paper: https://peerj.com/articles/7838/"
      ],
      "metadata": {}
    },
    {
      "outputs": [],
      "cell_type": "code",
      "source": [
        "testCase = \"testCase2\"\n#testCase = \"testCaseMultisubject\"\ndata = CSV.read(\"test\\\\\"*testCase*\"_data.csv\", header=0)\ndata = convert(Matrix,data)\ndata = dropdims(data,dims=1) # convert to vector\nevts = CSV.read(\"test\\\\\"*testCase*\"_events.csv\");"
      ],
      "metadata": {},
      "execution_count": null
    },
    {
      "outputs": [],
      "cell_type": "code",
      "source": [
        "show(first(evts,6,),allcols=true)"
      ],
      "metadata": {},
      "execution_count": null
    },
    {
      "cell_type": "markdown",
      "source": [
        "The data has little noise and the underlying signal is a pos-neg spike pattern"
      ],
      "metadata": {}
    },
    {
      "outputs": [],
      "cell_type": "code",
      "source": [
        "Plots.plot(data[1:300])"
      ],
      "metadata": {},
      "execution_count": null
    },
    {
      "cell_type": "markdown",
      "source": [
        "## Traditional Mass Univariate Analysis\nIn order to demonstrate why overlap correction is important, we will first epoch the data and fit a linear model to each time point.\nThis is a \"traditional mass-univariate analysis\"."
      ],
      "metadata": {}
    },
    {
      "outputs": [],
      "cell_type": "code",
      "source": [
        "# for future multi-channel support (not yet there!)\ndata_r = reshape(data,(1,:))\n# cut the data into epochs\ndata_epochs,times = unfold.epoch(data=data_r,tbl=evts,τ=(-0.4,0.8),sfreq=50)"
      ],
      "metadata": {},
      "execution_count": null
    },
    {
      "cell_type": "markdown",
      "source": [
        "We define a formula that we want to apply to each point in time"
      ],
      "metadata": {}
    },
    {
      "outputs": [],
      "cell_type": "code",
      "source": [
        "f  = @formula 0~1+conditionA*conditionB"
      ],
      "metadata": {},
      "execution_count": null
    },
    {
      "cell_type": "markdown",
      "source": [
        "We fit the special-type `UnfoldLinearModel` to the data"
      ],
      "metadata": {}
    },
    {
      "outputs": [],
      "cell_type": "code",
      "source": [
        "m = unfold.fit(unfold.UnfoldLinearModel,f,evts,data_epochs,times)"
      ],
      "metadata": {},
      "execution_count": null
    },
    {
      "cell_type": "markdown",
      "source": [
        "The object has the following fields"
      ],
      "metadata": {}
    },
    {
      "outputs": [],
      "cell_type": "code",
      "source": [
        "println(typeof(m))\nprintln(fieldnames(typeof(m)))"
      ],
      "metadata": {},
      "execution_count": null
    },
    {
      "cell_type": "markdown",
      "source": [
        "Which contain the model, the original formula, the original events and also a *tidy*-dataframe with the results"
      ],
      "metadata": {}
    },
    {
      "outputs": [],
      "cell_type": "code",
      "source": [
        "first(m.results,6)"
      ],
      "metadata": {},
      "execution_count": null
    },
    {
      "cell_type": "markdown",
      "source": [
        "We can also plot it using Gadfly"
      ],
      "metadata": {}
    },
    {
      "outputs": [],
      "cell_type": "code",
      "source": [
        "d = @linq m.results |> where(:group.==\"mass univariate\")\nplot(d,x=:time,y=:estimate,color=:term,Geom.LineGeometry)"
      ],
      "metadata": {},
      "execution_count": null
    },
    {
      "cell_type": "markdown",
      "source": [
        "## Basis Functions\n#### HRF / BOLD\nWe are now ready to define a basisfunction. There are currently only two basisfunction implemented, so not much choice.\nWe first have a look at the BOLD-HRF basisfunction:"
      ],
      "metadata": {}
    },
    {
      "outputs": [],
      "cell_type": "code",
      "source": [
        "TR = 1.5\nbold = unfold.hrfbasis(TR) # using default SPM parameters\neventonset = 1.3\nPlots.plot(bold.kernel(eventonset))"
      ],
      "metadata": {},
      "execution_count": null
    },
    {
      "cell_type": "markdown",
      "source": [
        "Classically, we would convolve this HRF function with a impulse-vector, with impulse at the event onsets"
      ],
      "metadata": {}
    },
    {
      "outputs": [],
      "cell_type": "code",
      "source": [
        "y = zeros(100)\ny[[10,30,37,45]] .=1\ny_conv = DSP.conv(y,bold.kernel(0))\nPlots.plot(y_conv)"
      ],
      "metadata": {},
      "execution_count": null
    },
    {
      "cell_type": "markdown",
      "source": [
        "Which one would use as a regressor against the recorded BOLD timecourse.\n\nNote that events could fall inbetween TR (the sampling rate). Some packages subsample the time signal, but in `unfold` we can directly call the `bold.kernel` function at a given event-time, which allows for non-TR-multiples to be used.\n\n### FIR Basis Function\n\nOkay, let's have a look at a different basis function: The FIR basisfunction."
      ],
      "metadata": {}
    },
    {
      "outputs": [],
      "cell_type": "code",
      "source": [
        "basisfunction = unfold.firbasis(τ=(-0.4,.8),sfreq=50)\nPlots.plot(basisfunction.kernel(0))"
      ],
      "metadata": {},
      "execution_count": null
    },
    {
      "cell_type": "markdown",
      "source": [
        "Not very clear, better show it in 2D"
      ],
      "metadata": {}
    },
    {
      "outputs": [],
      "cell_type": "code",
      "source": [
        "basisfunction.kernel(0)[1:10,1:10]"
      ],
      "metadata": {},
      "execution_count": null
    },
    {
      "cell_type": "markdown",
      "source": [
        "The FIR basisset consists of multiple basisfunctions. That is, each event will now be *timeexpanded* to multiple predictors, each with a certain time-delay to the event onset.\nThis allows to model any arbitrary linear overlap shape, and doesn't force us to make assumptions on the convolution kernel (like we had to do in the BOLD case)\n\n\n## Timeexpanded / Deconvolved ModelFit\nWe can now define the formula again"
      ],
      "metadata": {}
    },
    {
      "outputs": [],
      "cell_type": "code",
      "source": [
        "f  = @formula 0~1+conditionA*conditionB"
      ],
      "metadata": {},
      "execution_count": null
    },
    {
      "cell_type": "markdown",
      "source": [
        "For the left-handside we use \"0\" as the data is separated from the events. This will in the future allow us to fit multiple channels easily.\n\nAnd fit a `UnfoldLinearModel`. Not that instead of `times` as in the mass-univariate case, we have a `BasisFunction` object now."
      ],
      "metadata": {}
    },
    {
      "outputs": [],
      "cell_type": "code",
      "source": [
        "m = unfold.fit(unfold.UnfoldLinearModel,f,evts,data,basisfunction)"
      ],
      "metadata": {},
      "execution_count": null
    },
    {
      "outputs": [],
      "cell_type": "code",
      "source": [
        "#Gadfly.push_theme(:dark)\nd = @linq m.results |> where(:group.==\"fixed\")\nplot(d,x=:time,y=:estimate,color=:term,Geom.LineGeometry)"
      ],
      "metadata": {},
      "execution_count": null
    },
    {
      "outputs": [],
      "cell_type": "code",
      "source": [
        "using Weave\n\n# convert to html\nweave(\"doc\\\\lm_tutorial.jmd\")\n\n# convert to a python notebook\nconvert_doc(\"doc\\\\lm_tutorial.jmd\", \"doc\\\\lm_tutorial.ipynb\")\n\n# convert to md for README\nweave(\"doc\\\\lm_tutorial.jmd\", doctype=\"pandoc\", out_path = \"README.md\")"
      ],
      "metadata": {},
      "execution_count": null
    }
  ],
  "nbformat_minor": 2,
  "metadata": {
    "language_info": {
      "file_extension": ".jl",
      "mimetype": "application/julia",
      "name": "julia",
      "version": "1.3.0"
    },
    "kernelspec": {
      "name": "julia-1.3",
      "display_name": "Julia 1.3.0",
      "language": "julia"
    }
  },
  "nbformat": 4
}
