{
 "cells": [
  {
   "cell_type": "markdown",
   "metadata": {},
   "source": [
    "# Overlap Correction with Linear Models (aka unfold.jl)\n",
    "### Benedikt Ehinger, Dave Kleinschmidt\n",
    "### 2020-02-17"
   ]
  },
  {
   "cell_type": "code",
   "execution_count": null,
   "metadata": {},
   "outputs": [],
   "source": [
    "using Revise\n",
    "using CSV\n",
    "using StatsModels\n",
    "using MixedModels\n",
    "using DataFrames\n",
    "using DataFramesMeta\n",
    "import DSP\n",
    "import Plots\n",
    "import unfold\n",
    "Plots.gr()"
   ]
  },
  {
   "cell_type": "code",
   "execution_count": null,
   "metadata": {},
   "outputs": [],
   "source": [
    "testCase = \"testCase15\"\n",
    "#testCase = \"testCaseMultisubject\"\n",
    "data = CSV.read(\"test\\\\\"*testCase*\"_data.csv\", header=0)\n",
    "data = convert(Matrix,data)\n",
    "data = dropdims(data,dims=1) # convert to vector\n",
    "evts = CSV.read(\"test\\\\\"*testCase*\"_events.csv\");"
   ]
  },
  {
   "cell_type": "markdown",
   "metadata": {},
   "source": [
    "For now we have to subset the data to contain only event-type. (limitation: We also have to remove some missings)"
   ]
  },
  {
   "cell_type": "code",
   "execution_count": null,
   "metadata": {},
   "outputs": [],
   "source": [
    "evts_subset = evts[evts.type.==\"stimulus2\",:]\n",
    "\n",
    "# Is it possible to pass Missing Type through? That would be fantastic\n",
    "evts_subset.continuousA = Missings.disallowmissing(evts_subset.continuousA)\n",
    "evts_subset.conditionA  = Missings.disallowmissing(evts_subset.conditionA);"
   ]
  },
  {
   "cell_type": "code",
   "execution_count": null,
   "metadata": {},
   "outputs": [],
   "source": [
    "showall(first(evts_subset,6,))"
   ]
  },
  {
   "cell_type": "markdown",
   "metadata": {},
   "source": [
    "The data has little noise and the underlying signal is a pos-neg spike pattern"
   ]
  },
  {
   "cell_type": "code",
   "execution_count": null,
   "metadata": {},
   "outputs": [],
   "source": [
    "Plots.plot(data[1:300])"
   ]
  },
  {
   "cell_type": "markdown",
   "metadata": {},
   "source": [
    "## Basis Functions\n",
    "### HRF / BOLD\n",
    "We are now ready to define a basisfunction. There are currently only two basisfunction implemented, so not much choice.\n",
    "We first have a look at the BOLD-HRF basisfunction:"
   ]
  },
  {
   "cell_type": "code",
   "execution_count": null,
   "metadata": {},
   "outputs": [],
   "source": [
    "TR = 1.5\n",
    "bold = unfold.hrfbasis(TR) # using default SPM parameters\n",
    "eventonset = 1.3\n",
    "Plots.plot(bold.kernel(eventonset))"
   ]
  },
  {
   "cell_type": "markdown",
   "metadata": {},
   "source": [
    "Classically, we would convolve this HRF function with a impulse-vector, with impulse at the event onsets"
   ]
  },
  {
   "cell_type": "code",
   "execution_count": null,
   "metadata": {},
   "outputs": [],
   "source": [
    "y = zeros(100)\n",
    "y[[10,30,37,45]] .=1\n",
    "y_conv = DSP.conv(y,bold.kernel(0))\n",
    "Plots.plot(y_conv)"
   ]
  },
  {
   "cell_type": "markdown",
   "metadata": {},
   "source": [
    "Which one would use as a regressor against the recorded BOLD timecourse.\n",
    "\n",
    "Note that events could fall inbetween TR (the sampling rate). Some packages subsample the time signal, but in `unfold` we can directly call the `bold.kernel` function at a given event-time, which allows for non-TR-multiples to be used.\n",
    "\n",
    "### FIR Basis Function\n",
    "\n",
    "Okay, let's have a look at a different basis function: The FIR basisfunction."
   ]
  },
  {
   "cell_type": "code",
   "execution_count": null,
   "metadata": {},
   "outputs": [],
   "source": [
    "basisfunction = unfold.firbasis(τ=(-0.2,.4),sfreq=50)\n",
    "Plots.plot(basisfunction.kernel(0))"
   ]
  },
  {
   "cell_type": "markdown",
   "metadata": {},
   "source": [
    "Not very clear, better show it in 2D"
   ]
  },
  {
   "cell_type": "code",
   "execution_count": null,
   "metadata": {},
   "outputs": [],
   "source": [
    "basisfunction.kernel(0)[1:10,1:10]"
   ]
  },
  {
   "cell_type": "markdown",
   "metadata": {},
   "source": [
    "The FIR basisset consists of multiple basisfunctions. That is, each event will now be *timeexpanded* to multiple predictors, each with a certain time-delay to the event onset.\n",
    "This allows to model any arbitrary linear overlap shape, and doesn't force us to make assumptions on the convolution kernel (like we had to do in the BOLD case)\n",
    "\n",
    "\n",
    "## Single Subject ModelFit\n",
    "We can now define a formula"
   ]
  },
  {
   "cell_type": "code",
   "execution_count": null,
   "metadata": {},
   "outputs": [],
   "source": [
    "f  = @formula 0~1+conditionA*continuousA#+(1|subject)"
   ]
  },
  {
   "cell_type": "markdown",
   "metadata": {},
   "source": [
    "And fit a `UnfoldLinearModel`"
   ]
  },
  {
   "cell_type": "code",
   "execution_count": null,
   "metadata": {},
   "outputs": [],
   "source": [
    "# TODO write the converter to the UnfoldObject\n",
    "#beta,history =\n",
    "m = unfold.fit(unfold.UnfoldLinearModel,f,evts_subset,data,basisfunction)"
   ]
  },
  {
   "cell_type": "code",
   "execution_count": null,
   "metadata": {},
   "outputs": [],
   "source": [
    "using Gadfly\n",
    "using DataFramesMeta\n",
    "Gadfly.push_theme(:dark)\n",
    "\n",
    "d = @linq m.results |> where(:group.==\"fixed\")\n",
    "plot(d,x=:time,y=:estimate,color=:term,Geom.LineGeometry)"
   ]
  },
  {
   "cell_type": "markdown",
   "metadata": {},
   "source": [
    "# TODO plotting"
   ]
  },
  {
   "cell_type": "code",
   "execution_count": null,
   "metadata": {},
   "outputs": [],
   "source": [
    "using Weave\n",
    "\n",
    "# convert to html\n",
    "weave(\"doc\\\\lm_tutorial.jmd\")\n",
    "\n",
    "# convert to a python notebook\n",
    "convert_doc(\"doc\\\\lm_tutorial.jmd\", \"doc\\\\lm_tutorial.ipynb\")\n",
    "\n",
    "# convert to md for README\n",
    "weave(\"doc\\\\lm_tutorial.jmd\", doctype=\"pandoc\", out_path = \"README.md\")"
   ]
  }
 ],
 "metadata": {
  "kernelspec": {
   "display_name": "Julia 1.3.0",
   "language": "julia",
   "name": "julia-1.3"
  },
  "language_info": {
   "file_extension": ".jl",
   "mimetype": "application/julia",
   "name": "julia",
   "version": "1.3.0"
  }
 },
 "nbformat": 4,
 "nbformat_minor": 2
}
