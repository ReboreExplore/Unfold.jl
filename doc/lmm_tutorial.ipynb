{
 "cells": [
  {
   "cell_type": "markdown",
   "metadata": {},
   "source": [
    "# Overlap Correction with Linear Mixed Models (aka unmixed.jl)\n",
    "### Benedikt Ehinger with help from Dave Kleinschmidt\n",
    "### 2020-02-17"
   ]
  },
  {
   "cell_type": "code",
   "execution_count": null,
   "metadata": {},
   "outputs": [],
   "source": [
    "using Revise\n",
    "using CSV\n",
    "using StatsModels\n",
    "using MixedModels\n",
    "using DataFrames\n",
    "using DataFramesMeta\n",
    "import Plots\n",
    "import unfold\n",
    "using Gadfly\n",
    "using DataFramesMeta\n",
    "\n",
    "Plots.gr()"
   ]
  },
  {
   "cell_type": "markdown",
   "metadata": {},
   "source": [
    "This notebook is similar to the `lm_tutorial`, but fits mass-univariate *mixed* models and time-expanded/overlap-corrected *mixed* models.\n",
    "\n",
    "## Reading input\n",
    "The data were simulated in MatLab using the `unmixed toolbox (www.unfoldtoolbox.org)` with the function`EEG_to_csv.m`.\n",
    "\n",
    "**Limitation**: due to current implementation in MixedModels.jl, we cannot fit overlap-corrected random effects.\n",
    "That is, the `(1|item)` cannot be modelled at the moment."
   ]
  },
  {
   "cell_type": "code",
   "execution_count": null,
   "metadata": {},
   "outputs": [],
   "source": [
    "testCase = \"testCaseMultisubject2\"\n",
    "data = CSV.read(\"..\\\\test\\\\\"*testCase*\"_data.csv\", header=0)\n",
    "data = convert(Array,data)\n",
    "evts = CSV.read(\"..\\\\test\\\\\"*testCase*\"_events.csv\")\n",
    "categorical!(evts,:subject);"
   ]
  },
  {
   "cell_type": "markdown",
   "metadata": {},
   "source": [
    "The `events` dataFrame looks like this"
   ]
  },
  {
   "cell_type": "code",
   "execution_count": null,
   "metadata": {},
   "outputs": [],
   "source": [
    "first(evts,6)"
   ]
  },
  {
   "cell_type": "markdown",
   "metadata": {},
   "source": [
    "With the important fields being `latency`, `condA`, `condB` and `subject`.\n",
    "\n",
    "The data are a vector."
   ]
  },
  {
   "cell_type": "code",
   "execution_count": null,
   "metadata": {},
   "outputs": [],
   "source": [
    "println(typeof(data))\n",
    "println(size(data))"
   ]
  },
  {
   "cell_type": "markdown",
   "metadata": {},
   "source": [
    "**Limitation** Note how small it is! Only 12k samples, that is only ~5minutes of recording in total for 25 subjects. More realistic samples quickly take hours to fit.\n",
    "\n",
    "## Without Overlap Correction\n",
    "We define the formula"
   ]
  },
  {
   "cell_type": "code",
   "execution_count": null,
   "metadata": {},
   "outputs": [],
   "source": [
    "f  = @formula 0~1+condA*condB+(1+condA*condB|subject);"
   ]
  },
  {
   "cell_type": "markdown",
   "metadata": {},
   "source": [
    "epoch the data once again"
   ]
  },
  {
   "cell_type": "code",
   "execution_count": null,
   "metadata": {},
   "outputs": [],
   "source": [
    "data_r = reshape(data,(1,:))\n",
    "# cut the data into epochs\n",
    "data_epochs,times = unfold.epoch(data=data_r,tbl=evts,τ=(-0.4,0.8),sfreq=50);"
   ]
  },
  {
   "cell_type": "markdown",
   "metadata": {},
   "source": [
    "We can now run the LinearMixedModel on each time point"
   ]
  },
  {
   "cell_type": "code",
   "execution_count": null,
   "metadata": {},
   "outputs": [],
   "source": [
    "m = unfold.fit(unfold.UnfoldLinearMixedModel,f,evts,data_epochs,times)"
   ]
  },
  {
   "cell_type": "markdown",
   "metadata": {},
   "source": [
    "And plot it:"
   ]
  },
  {
   "cell_type": "code",
   "execution_count": null,
   "metadata": {},
   "outputs": [],
   "source": [
    "d = @linq m.results |> where(:group.==\"fixed\")\n",
    "plot(d,x=:time,y=:estimate,color=:term,Geom.LineGeometry)"
   ]
  },
  {
   "cell_type": "markdown",
   "metadata": {},
   "source": [
    "And the random effect results"
   ]
  },
  {
   "cell_type": "code",
   "execution_count": null,
   "metadata": {},
   "outputs": [],
   "source": [
    "d = @linq m.results |> where(:group.==\"subject\")\n",
    "plot(d,x=:time,y=:estimate,color=:term,Geom.LineGeometry)"
   ]
  },
  {
   "cell_type": "markdown",
   "metadata": {},
   "source": [
    "Obviously there is still something wrong with the random effects - but we are getting there :-D\n",
    "\n",
    "## With Overlap Correction\n",
    "For overlap correction, we have to use a basis function once again."
   ]
  },
  {
   "cell_type": "code",
   "execution_count": null,
   "metadata": {},
   "outputs": [],
   "source": [
    "basisfunction = unfold.firbasis(τ=(-0.05,.4),sfreq=40)\n",
    "f  = @formula 0~1+condA*condB+(1+condA*condB|subject);"
   ]
  },
  {
   "cell_type": "markdown",
   "metadata": {},
   "source": [
    "**Limitation:** Currently we cannot model correlation between time-points or random slopes.\n",
    "\n",
    "**Limitation:** See the low sampling frequency? This is because the modelfit increases quadratically with the number of predictors\n",
    "\n",
    "We can now run the mixed model.\n",
    "\n",
    "Easy syntax: Specify formula, events, EEG-data & the basis function"
   ]
  },
  {
   "cell_type": "code",
   "execution_count": null,
   "metadata": {},
   "outputs": [],
   "source": [
    "@time mm = unfold.fit(unfold.UnfoldLinearMixedModel,f,evts,data,basisfunction)"
   ]
  },
  {
   "cell_type": "markdown",
   "metadata": {},
   "source": [
    "We receive an object containing the mixed model:"
   ]
  },
  {
   "cell_type": "code",
   "execution_count": null,
   "metadata": {},
   "outputs": [],
   "source": [
    "show(coeftable(mm.model))"
   ]
  },
  {
   "cell_type": "markdown",
   "metadata": {},
   "source": [
    "The VarCor - Random effect matrix is very large, so we are not showing it here.\n",
    "\n",
    "But we also get a *tidy*-dataframe with the results"
   ]
  },
  {
   "cell_type": "code",
   "execution_count": null,
   "metadata": {},
   "outputs": [],
   "source": [
    "first(mm.results,6)"
   ]
  },
  {
   "cell_type": "markdown",
   "metadata": {},
   "source": [
    "and thus we can easily plot the fixed effect results."
   ]
  },
  {
   "cell_type": "code",
   "execution_count": null,
   "metadata": {},
   "outputs": [],
   "source": [
    "d = @linq mm.results |> where(:group.==\"fixed\")\n",
    "plot(d,x=:time,y=:estimate,color=:term,Geom.LineGeometry)"
   ]
  },
  {
   "cell_type": "markdown",
   "metadata": {},
   "source": [
    "And the random effect results."
   ]
  },
  {
   "cell_type": "code",
   "execution_count": null,
   "metadata": {},
   "outputs": [],
   "source": [
    "d = @linq mm.results |> where(:group.==\"subject\")\n",
    "plot(d,x=:time,y=:estimate,color=:term,Geom.LineGeometry)"
   ]
  },
  {
   "cell_type": "markdown",
   "metadata": {},
   "source": [
    "## What is happening under the hood?"
   ]
  },
  {
   "cell_type": "code",
   "execution_count": null,
   "metadata": {},
   "outputs": [],
   "source": [
    "Xs,form = unfold.LinearMixedModel_formula(f,evts,basisfunction, contrasts = Dict{Symbol,Any}());"
   ]
  },
  {
   "cell_type": "markdown",
   "metadata": {},
   "source": [
    "Formula-Terms are wrapped with a `TimeExpandedTerm`, which upon calling `modelcols` will timeexpand the designmatrix.\n",
    "There is one TimeExpandedTerm for the FixedEffects and one for each RandomEffectsTerm.\n",
    "\n",
    " **Limitation** Currently it is not possible to combine different formulas & different basis-functions, but that is planned"
   ]
  },
  {
   "cell_type": "code",
   "execution_count": null,
   "metadata": {},
   "outputs": [],
   "source": [
    "typeof(form.rhs)"
   ]
  },
  {
   "cell_type": "markdown",
   "metadata": {},
   "source": [
    "Visualizing the designmatrices.\n",
    "Fixed Effects:"
   ]
  },
  {
   "cell_type": "code",
   "execution_count": null,
   "metadata": {},
   "outputs": [],
   "source": [
    "Plots.heatmap(Matrix(Xs[1][1:300,:]))"
   ]
  },
  {
   "cell_type": "markdown",
   "metadata": {},
   "source": [
    "Random Effects"
   ]
  },
  {
   "cell_type": "code",
   "execution_count": null,
   "metadata": {},
   "outputs": [],
   "source": [
    "Plots.heatmap(Matrix(Xs[2][1:2000,1:500]))"
   ]
  },
  {
   "cell_type": "markdown",
   "metadata": {},
   "source": [
    "And finally, generate the linear mixed model manually & fit it."
   ]
  },
  {
   "cell_type": "code",
   "execution_count": null,
   "metadata": {},
   "outputs": [],
   "source": [
    "mm = unfold.LinearMixedModel_wrapper(form,data,Xs)\n",
    "fit!(mm)\n",
    "mm = unfold.condense(mm,evts)"
   ]
  },
  {
   "cell_type": "markdown",
   "metadata": {},
   "source": [
    "## Summary\n",
    "There are four different model types currently \"fitable\"\n",
    "\n",
    "1. Timeexpansion **No**, Mixed **No**  : `unfold.fit(unfold.UnfoldLinearModel,f,evts,data_epoch,times)`\n",
    "1. Timeexpansion **Yes**, Mixed **No** : `unfold.fit(unfold.UnfoldLinearModel,f,evts,data,basisfunction)`\n",
    "1. Timeexpansion **No**, Mixed **Yes** : `unfold.fit(unfold.UnfoldLinearMixedModel,f,evts,data_epoch,times)`\n",
    "1. Timeexpansion **Yes**, Mixed **Yes**: `unfold.fit(unfold.UnfoldLinearMixedModel,f,evts,data,basisfunction)`"
   ]
  },
  {
   "cell_type": "code",
   "execution_count": null,
   "metadata": {},
   "outputs": [],
   "source": [
    "using Weave\n",
    "\n",
    "# convert to html\n",
    "weave(\"doc\\\\lmm_tutorial.jmd\")\n",
    "\n",
    "# convert to a python notebook\n",
    "convert_doc(\"doc\\\\lmm_tutorial.jmd\", \"doc\\\\lmm_tutorial.ipynb\")\n",
    "\n",
    "# convert to md for README\n",
    "#weave(\"doc\\\\lm_tutorial.jmd\", doctype=\"pandoc\", out_path = \"README.md\")"
   ]
  }
 ],
 "metadata": {
  "kernelspec": {
   "display_name": "Julia 1.3.0",
   "language": "julia",
   "name": "julia-1.3"
  },
  "language_info": {
   "file_extension": ".jl",
   "mimetype": "application/julia",
   "name": "julia",
   "version": "1.3.0"
  }
 },
 "nbformat": 4,
 "nbformat_minor": 2
}
