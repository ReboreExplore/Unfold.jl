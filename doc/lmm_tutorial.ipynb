{
  "cells": [
    {
      "cell_type": "markdown",
      "source": [
        "# Overlap Correction with Linear Mixed Models (aka unmixed.jl)\n### Benedikt Ehinger with help from Dave Kleinschmidt\n### 2020-02-17"
      ],
      "metadata": {}
    },
    {
      "outputs": [],
      "cell_type": "code",
      "source": [
        "using Revise\nusing CSV\nusing StatsModels\nusing MixedModels\nusing DataFrames\nusing DataFramesMeta\nimport Plots\nimport unfold\nusing Gadfly\nusing DataFramesMeta\n\nPlots.gr()"
      ],
      "metadata": {},
      "execution_count": null
    },
    {
      "cell_type": "markdown",
      "source": [
        "This notebook is similar to the `lm_tutorial`, but fits mass-univariate *mixed* models and time-expanded/overlap-corrected *mixed* models.\n\n## Reading input\nThe data were simulated in MatLab using the `unmixed toolbox (www.unfoldtoolbox.org)` with the function`EEG_to_csv.m`.\n\n**Limitation**: due to current implementation in MixedModels.jl, we cannot fit overlap-corrected random effects.\nThat is, the `(1|item)` cannot be modelled at the moment."
      ],
      "metadata": {}
    },
    {
      "outputs": [],
      "cell_type": "code",
      "source": [
        "testCase = \"testCaseMultisubject2\"\ndata = CSV.read(\"test\\\\\"*testCase*\"_data.csv\", header=0)\ndata = convert(Array,data)\nevts = CSV.read(\"test\\\\\"*testCase*\"_events.csv\")\ncategorical!(evts,:subject);"
      ],
      "metadata": {},
      "execution_count": null
    },
    {
      "cell_type": "markdown",
      "source": [
        "The `events` dataFrame looks like this"
      ],
      "metadata": {}
    },
    {
      "outputs": [],
      "cell_type": "code",
      "source": [
        "first(evts,6)"
      ],
      "metadata": {},
      "execution_count": null
    },
    {
      "cell_type": "markdown",
      "source": [
        "With the important fields being `latency`, `condA`, `condB` and `subject`.\n\nThe data are a vector."
      ],
      "metadata": {}
    },
    {
      "outputs": [],
      "cell_type": "code",
      "source": [
        "println(typeof(data))\nprintln(size(data))"
      ],
      "metadata": {},
      "execution_count": null
    },
    {
      "cell_type": "markdown",
      "source": [
        "**Limitation** Note how small it is! Only 12k samples, that is only ~5minutes of recording in total for 25 subjects. More realistic samples quickly take hours to fit.\n\n## Without Overlap Correction\nWe define the formula"
      ],
      "metadata": {}
    },
    {
      "outputs": [],
      "cell_type": "code",
      "source": [
        "f  = @formula 0~1+condA*condB+(1+condA*condB|subject);"
      ],
      "metadata": {},
      "execution_count": null
    },
    {
      "cell_type": "markdown",
      "source": [
        "epoch the data once again"
      ],
      "metadata": {}
    },
    {
      "outputs": [],
      "cell_type": "code",
      "source": [
        "data_r = reshape(data,(1,:))\n# cut the data into epochs\ndata_epochs,times = unfold.epoch(data=data_r,tbl=evts,τ=(-0.4,0.8),sfreq=50);"
      ],
      "metadata": {},
      "execution_count": null
    },
    {
      "cell_type": "markdown",
      "source": [
        "We can now run the LinearMixedModel on each time point"
      ],
      "metadata": {}
    },
    {
      "outputs": [],
      "cell_type": "code",
      "source": [
        "m = unfold.fit(unfold.UnfoldLinearMixedModel,f,evts,data_epochs,times)"
      ],
      "metadata": {},
      "execution_count": null
    },
    {
      "cell_type": "markdown",
      "source": [
        "And plot it:"
      ],
      "metadata": {}
    },
    {
      "outputs": [],
      "cell_type": "code",
      "source": [
        "d = @linq m.results |> where(:group.==\"fixed\")\nplot(d,x=:time,y=:estimate,color=:term,Geom.LineGeometry)"
      ],
      "metadata": {},
      "execution_count": null
    },
    {
      "cell_type": "markdown",
      "source": [
        "And the random effect results"
      ],
      "metadata": {}
    },
    {
      "outputs": [],
      "cell_type": "code",
      "source": [
        "d = @linq m.results |> where(:group.==\"subject\")\nplot(d,x=:time,y=:estimate,color=:term,Geom.LineGeometry)"
      ],
      "metadata": {},
      "execution_count": null
    },
    {
      "cell_type": "markdown",
      "source": [
        "Obviously there is still something wrong with the random effects - but we are getting there :-D\n\n## With Overlap Correction\nFor overlap correction, we have to use a basis function once again."
      ],
      "metadata": {}
    },
    {
      "outputs": [],
      "cell_type": "code",
      "source": [
        "basisfunction = unfold.firbasis(τ=(-0.05,.4),sfreq=40)\nf  = @formula 0~1+condA*condB+(1+condA*condB|subject);"
      ],
      "metadata": {},
      "execution_count": null
    },
    {
      "cell_type": "markdown",
      "source": [
        "**Limitation:** Currently we cannot model correlation between time-points or random slopes.\n\n**Limitation:** See the low sampling frequency? This is because the modelfit increases quadratically with the number of predictors\n\nWe can now run the mixed model.\n\nEasy syntax: Specify formula, events, EEG-data & the basis function"
      ],
      "metadata": {}
    },
    {
      "outputs": [],
      "cell_type": "code",
      "source": [
        "@time mm = unfold.fit(unfold.UnfoldLinearMixedModel,f,evts,data,basisfunction)"
      ],
      "metadata": {},
      "execution_count": null
    },
    {
      "cell_type": "markdown",
      "source": [
        "We receive an object containing the mixed model:"
      ],
      "metadata": {}
    },
    {
      "outputs": [],
      "cell_type": "code",
      "source": [
        "show(coeftable(mm.model))"
      ],
      "metadata": {},
      "execution_count": null
    },
    {
      "cell_type": "markdown",
      "source": [
        "The VarCor - Random effect matrix is very large, so we are not showing it here.\n\nBut we also get a *tidy*-dataframe with the results"
      ],
      "metadata": {}
    },
    {
      "outputs": [],
      "cell_type": "code",
      "source": [
        "first(mm.results,6)"
      ],
      "metadata": {},
      "execution_count": null
    },
    {
      "cell_type": "markdown",
      "source": [
        "and thus we can easily plot the fixed effect results."
      ],
      "metadata": {}
    },
    {
      "outputs": [],
      "cell_type": "code",
      "source": [
        "d = @linq mm.results |> where(:group.==\"fixed\")\nplot(d,x=:time,y=:estimate,color=:term,Geom.LineGeometry)"
      ],
      "metadata": {},
      "execution_count": null
    },
    {
      "cell_type": "markdown",
      "source": [
        "And the random effect results."
      ],
      "metadata": {}
    },
    {
      "outputs": [],
      "cell_type": "code",
      "source": [
        "d = @linq mm.results |> where(:group.==\"subject\")\nplot(d,x=:time,y=:estimate,color=:term,Geom.LineGeometry)"
      ],
      "metadata": {},
      "execution_count": null
    },
    {
      "cell_type": "markdown",
      "source": [
        "## What is happening under the hood?"
      ],
      "metadata": {}
    },
    {
      "outputs": [],
      "cell_type": "code",
      "source": [
        "Xs,form = unfold.LinearMixedModel_formula(f,evts,basisfunction, contrasts = Dict{Symbol,Any}());"
      ],
      "metadata": {},
      "execution_count": null
    },
    {
      "cell_type": "markdown",
      "source": [
        "Formula-Terms are wrapped with a `TimeExpandedTerm`, which upon calling `modelcols` will timeexpand the designmatrix.\nThere is one TimeExpandedTerm for the FixedEffects and one for each RandomEffectsTerm.\n\n **Limitation** Currently it is not possible to combine different formulas & different basis-functions, but that is planned"
      ],
      "metadata": {}
    },
    {
      "outputs": [],
      "cell_type": "code",
      "source": [
        "typeof(form.rhs)"
      ],
      "metadata": {},
      "execution_count": null
    },
    {
      "cell_type": "markdown",
      "source": [
        "Visualizing the designmatrices.\nFixed Effects:"
      ],
      "metadata": {}
    },
    {
      "outputs": [],
      "cell_type": "code",
      "source": [
        "Plots.heatmap(Matrix(Xs[1][1:300,:]))"
      ],
      "metadata": {},
      "execution_count": null
    },
    {
      "cell_type": "markdown",
      "source": [
        "Random Effects"
      ],
      "metadata": {}
    },
    {
      "outputs": [],
      "cell_type": "code",
      "source": [
        "Plots.heatmap(Matrix(Xs[2][1:2000,1:500]))"
      ],
      "metadata": {},
      "execution_count": null
    },
    {
      "cell_type": "markdown",
      "source": [
        "And finally, generate the linear mixed model manually & fit it."
      ],
      "metadata": {}
    },
    {
      "outputs": [],
      "cell_type": "code",
      "source": [
        "mm = unfold.LinearMixedModel_wrapper(form,data,Xs)\nfit!(mm)\nmm = unfold.condense(mm,evts)"
      ],
      "metadata": {},
      "execution_count": null
    },
    {
      "cell_type": "markdown",
      "source": [
        "## Summary\nThere are four different model types currently \"fitable\"\n\n1. Timeexpansion **No**, Mixed **No**  : `unfold.fit(unfold.UnfoldLinearModel,f,evts,data_epoch,times)`\n1. Timeexpansion **Yes**, Mixed **No** : `unfold.fit(unfold.UnfoldLinearModel,f,evts,data,basisfunction)`\n1. Timeexpansion **No**, Mixed **Yes** : `unfold.fit(unfold.UnfoldLinearMixedModel,f,evts,data_epoch,times)`\n1. Timeexpansion **Yes**, Mixed **Yes**: `unfold.fit(unfold.UnfoldLinearMixedModel,f,evts,data,basisfunction)`"
      ],
      "metadata": {}
    },
    {
      "outputs": [],
      "cell_type": "code",
      "source": [
        "using Weave\n\n# convert to html\nweave(\"doc\\\\lmm_tutorial.jmd\")\n\n# convert to a python notebook\nconvert_doc(\"doc\\\\lmm_tutorial.jmd\", \"doc\\\\lmm_tutorial.ipynb\")\n\n# convert to md for README\n#weave(\"doc\\\\lm_tutorial.jmd\", doctype=\"pandoc\", out_path = \"README.md\")"
      ],
      "metadata": {},
      "execution_count": null
    }
  ],
  "nbformat_minor": 2,
  "metadata": {
    "language_info": {
      "file_extension": ".jl",
      "mimetype": "application/julia",
      "name": "julia",
      "version": "1.3.0"
    },
    "kernelspec": {
      "name": "julia-1.3",
      "display_name": "Julia 1.3.0",
      "language": "julia"
    }
  },
  "nbformat": 4
}
